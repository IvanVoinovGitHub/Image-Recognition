{
  "cells": [
    {
      "cell_type": "code",
      "execution_count": 1,
      "metadata": {
        "id": "UQ7vc7_hKITR"
      },
      "outputs": [],
      "source": [
        "import tensorflow as tf\n",
        "import matplotlib.pyplot as plt\n",
        "from tensorflow.keras import regularizers\n",
        "from tensorflow.keras.optimizers import SGD\n",
        "from sklearn.model_selection import train_test_split\n",
        "from tensorflow import keras\n",
        "import keras"
      ]
    },
    {
      "cell_type": "code",
      "execution_count": 2,
      "metadata": {
        "id": "K6PznhssKITR",
        "colab": {
          "base_uri": "https://localhost:8080/"
        },
        "outputId": "28253397-8797-4f93-f038-4f3c1bebab4d"
      },
      "outputs": [
        {
          "output_type": "stream",
          "name": "stdout",
          "text": [
            "Downloading data from https://www.cs.toronto.edu/~kriz/cifar-10-python.tar.gz\n",
            "170500096/170498071 [==============================] - 3s 0us/step\n",
            "170508288/170498071 [==============================] - 3s 0us/step\n"
          ]
        }
      ],
      "source": [
        "(x_train, y_train), (x_test, y_test) = keras.datasets.cifar10.load_data()\n",
        "x_train, x_val, y_train, y_val = train_test_split(x_train, y_train, train_size = 0.9, test_size = 0.1, random_state = 144)\n",
        "assert x_train.shape == (45000, 32, 32, 3)\n",
        "assert x_test.shape == (10000, 32, 32, 3)\n",
        "assert x_val.shape == (5000, 32, 32, 3)\n",
        "assert y_val.shape == (5000, 1)\n",
        "assert y_train.shape == (45000, 1)\n",
        "assert y_test.shape == (10000, 1)\n",
        "# print(x_train.shape, y_train.shape, x_val.shape, y_val.shape,  x_test.shape, y_test.shape)"
      ]
    },
    {
      "cell_type": "code",
      "execution_count": 3,
      "metadata": {
        "id": "d45hvQNDKITS",
        "colab": {
          "base_uri": "https://localhost:8080/",
          "height": 283
        },
        "outputId": "d41be743-9948-49af-c87d-e47ba4e3b9c8"
      },
      "outputs": [
        {
          "output_type": "execute_result",
          "data": {
            "text/plain": [
              "<matplotlib.image.AxesImage at 0x7fab59d05910>"
            ]
          },
          "metadata": {},
          "execution_count": 3
        },
        {
          "output_type": "display_data",
          "data": {
            "text/plain": [
              "<Figure size 432x288 with 1 Axes>"
            ],
            "image/png": "[encoded data removed]"
          },
          "metadata": {
            "needs_background": "light"
          }
        }
      ],
      "source": [
        "#Visulize one image from CIFAR\n",
        "plt.imshow(x_train[0], cmap=plt.cm.binary)"
      ]
    },
    {
      "cell_type": "markdown",
      "metadata": {
        "id": "EOYWGLgqKITS"
      },
      "source": [
        "#### Step-2: Normalize iamges\n",
        "Now the range of pixel values is from 0 to 255. Normalize the images in training set, validation set, and test set to 0-1."
      ]
    },
    {
      "cell_type": "code",
      "execution_count": 4,
      "metadata": {
        "id": "DOmVSzhYKITS"
      },
      "outputs": [],
      "source": [
        "x_train = x_train / 255.0\n",
        "x_test = x_test / 255.0\n",
        "x_val = x_val / 250.0"
      ]
    },
    {
      "cell_type": "markdown",
      "metadata": {
        "id": "eFpoh2XBKITT"
      },
      "source": [
        "#### Step-3: Build a neural network.\n",
        "Build your convolutional neural networks by adding some layers. You should use 2 convolution layers and ReLU as the default activation function. The kernel size of both layers should be 3x3. Use 32 and 64 as the number of filters for the first and the second convolutional layers, respectively. After that, flatten your input and add two more dense layers. There should be 1024 units in the first dense with ReLU activation, and use 10 hidden units in the second dense layer with softmax activation. The requirements are same for the following questions."
      ]
    },
    {
      "cell_type": "code",
      "execution_count": 5,
      "metadata": {
        "id": "Y-7IE80mKITT"
      },
      "outputs": [],
      "source": [
        "md = tf.keras.Sequential()\n",
        "md.add(tf.keras.layers.Conv2D(32, kernel_size = 3, activation = 'relu', input_shape = (32, 32, 3)))\n",
        "md.add(tf.keras.layers.Conv2D(64, kernel_size = 3, activation = 'relu'))\n",
        "md.add(tf.keras.layers.Flatten())\n",
        "md.add(tf.keras.layers.Dense(1024, activation = 'relu'))\n",
        "md.add(tf.keras.layers.Dense(10, activation = 'softmax'))"
      ]
    },
    {
      "cell_type": "markdown",
      "metadata": {
        "id": "dt27nBzJKITU"
      },
      "source": [
        "#### Step-4: Train the model\n",
        "Compile model here and set your initial hyperparameters. Use SGD as the optimizer with initial learning rate 0.01. You could choose 'sparse_categorical_crossentropy' as your loss function, and the metrics should be 'accuracy'. After that, train your model for 10 epochs. The requirements are same for the following questions."
      ]
    },
    {
      "cell_type": "code",
      "execution_count": 6,
      "metadata": {
        "id": "egGS7HGEKITV",
        "colab": {
          "base_uri": "https://localhost:8080/"
        },
        "outputId": "06c9a5de-4fa8-4f1f-f6a8-6e7556213106"
      },
      "outputs": [
        {
          "output_type": "stream",
          "name": "stdout",
          "text": [
            "Epoch 1/10\n",
            "1407/1407 [==============================] - 43s 24ms/step - loss: 1.7741 - accuracy: 0.3676\n",
            "Epoch 2/10\n",
            "1407/1407 [==============================] - 34s 24ms/step - loss: 1.4367 - accuracy: 0.4889\n",
            "Epoch 3/10\n",
            "1407/1407 [==============================] - 33s 24ms/step - loss: 1.2633 - accuracy: 0.5528\n",
            "Epoch 4/10\n",
            "1407/1407 [==============================] - 33s 23ms/step - loss: 1.1226 - accuracy: 0.6053\n",
            "Epoch 5/10\n",
            "1407/1407 [==============================] - 34s 24ms/step - loss: 0.9994 - accuracy: 0.6514\n",
            "Epoch 6/10\n",
            "1407/1407 [==============================] - 33s 23ms/step - loss: 0.8733 - accuracy: 0.6934\n",
            "Epoch 7/10\n",
            "1407/1407 [==============================] - 33s 23ms/step - loss: 0.7407 - accuracy: 0.7453\n",
            "Epoch 8/10\n",
            "1407/1407 [==============================] - 33s 23ms/step - loss: 0.6003 - accuracy: 0.7971\n",
            "Epoch 9/10\n",
            "1407/1407 [==============================] - 33s 23ms/step - loss: 0.4542 - accuracy: 0.8510\n",
            "Epoch 10/10\n",
            "1407/1407 [==============================] - 33s 24ms/step - loss: 0.3196 - accuracy: 0.8961\n"
          ]
        },
        {
          "output_type": "execute_result",
          "data": {
            "text/plain": [
              "<keras.callbacks.History at 0x7fab505eeb50>"
            ]
          },
          "metadata": {},
          "execution_count": 6
        }
      ],
      "source": [
        "md.compile(optimizer = SGD(0.01), loss='sparse_categorical_crossentropy', metrics=['accuracy'])\n",
        "md.fit(x_train, y_train, epochs = 10)"
      ]
    },
    {
      "cell_type": "code",
      "execution_count": 7,
      "metadata": {
        "id": "oBdDwRj1KITV",
        "colab": {
          "base_uri": "https://localhost:8080/"
        },
        "outputId": "f3a592ec-93b4-4a50-e5c8-178363b83134"
      },
      "outputs": [
        {
          "output_type": "stream",
          "name": "stdout",
          "text": [
            "313/313 [==============================] - 3s 10ms/step - loss: 1.4320 - accuracy: 0.6130\n",
            "1.4319608211517334 0.6129999756813049\n"
          ]
        }
      ],
      "source": [
        "#Evaluation\n",
        "test_loss, test_acc = md.evaluate(x_test, y_test)\n",
        "print(test_loss, test_acc)"
      ]
    },
    {
      "cell_type": "markdown",
      "metadata": {
        "id": "urGP_6ZJKITV"
      },
      "source": [
        "#### Step-5: Regularization\n",
        "Add one dropout layer with 0.5 drop rate between the two dense layer and apply a SGD with momentum 0.9. You can keep all other hyperparameters the same."
      ]
    },
    {
      "cell_type": "code",
      "execution_count": 8,
      "metadata": {
        "id": "vlIUR4fgKITV",
        "colab": {
          "base_uri": "https://localhost:8080/"
        },
        "outputId": "0601db08-b83f-4019-e205-b718fcc4f0d3"
      },
      "outputs": [
        {
          "output_type": "stream",
          "name": "stdout",
          "text": [
            "Epoch 1/10\n",
            "1407/1407 [==============================] - 40s 28ms/step - loss: 1.7255 - accuracy: 0.3751\n",
            "Epoch 2/10\n",
            "1407/1407 [==============================] - 39s 28ms/step - loss: 1.3277 - accuracy: 0.5246\n",
            "Epoch 3/10\n",
            "1407/1407 [==============================] - 39s 28ms/step - loss: 1.0590 - accuracy: 0.6279\n",
            "Epoch 4/10\n",
            "1407/1407 [==============================] - 40s 28ms/step - loss: 0.8094 - accuracy: 0.7180\n",
            "Epoch 5/10\n",
            "1407/1407 [==============================] - 39s 28ms/step - loss: 0.5482 - accuracy: 0.8112\n",
            "Epoch 6/10\n",
            "1407/1407 [==============================] - 39s 28ms/step - loss: 0.3569 - accuracy: 0.8772\n",
            "Epoch 7/10\n",
            "1407/1407 [==============================] - 40s 28ms/step - loss: 0.2588 - accuracy: 0.9149\n",
            "Epoch 8/10\n",
            "1407/1407 [==============================] - 40s 28ms/step - loss: 0.2061 - accuracy: 0.9312\n",
            "Epoch 9/10\n",
            "1407/1407 [==============================] - 39s 28ms/step - loss: 0.1763 - accuracy: 0.9427\n",
            "Epoch 10/10\n",
            "1407/1407 [==============================] - 40s 28ms/step - loss: 0.1477 - accuracy: 0.9502\n"
          ]
        },
        {
          "output_type": "execute_result",
          "data": {
            "text/plain": [
              "<keras.callbacks.History at 0x7fab50384e50>"
            ]
          },
          "metadata": {},
          "execution_count": 8
        }
      ],
      "source": [
        "md = tf.keras.Sequential()\n",
        "md.add(tf.keras.layers.Conv2D(32, kernel_size = 3, activation = 'relu', input_shape = (32, 32, 3)))\n",
        "md.add(tf.keras.layers.Conv2D(64, kernel_size = 3, activation = 'relu'))\n",
        "md.add(tf.keras.layers.Flatten())\n",
        "md.add(tf.keras.layers.Dense(1024, activation = 'relu'))\n",
        "md.add(tf.keras.layers.Dropout(0.5))\n",
        "md.add(tf.keras.layers.Dense(10, activation = 'softmax'))\n",
        "\n",
        "md.compile(optimizer = SGD(0.01, momentum = 0.9), loss='sparse_categorical_crossentropy', metrics=['accuracy'])\n",
        "md.fit(x_train, y_train, epochs = 10)"
      ]
    },
    {
      "cell_type": "code",
      "source": [
        "#Evaluation\n",
        "test_loss, test_acc = md.evaluate(x_test, y_test)\n",
        "print(test_loss, test_acc)"
      ],
      "metadata": {
        "id": "ztfATfMHnrK-",
        "colab": {
          "base_uri": "https://localhost:8080/"
        },
        "outputId": "b59b2fcb-bdab-4d90-856b-becbe8237cc6"
      },
      "execution_count": 9,
      "outputs": [
        {
          "output_type": "stream",
          "name": "stdout",
          "text": [
            "313/313 [==============================] - 3s 10ms/step - loss: 1.5265 - accuracy: 0.6374\n",
            "1.5264791250228882 0.6373999714851379\n"
          ]
        }
      ]
    },
    {
      "cell_type": "markdown",
      "metadata": {
        "id": "cGn8p6_wKITV"
      },
      "source": [
        "#### Step-6: Deeper neural network\n",
        "\n",
        "Try to add two more convolution layers in your model (four in total). Use 128 as the number of filters for two extra convolution layers, and 3x3 as the kernel size."
      ]
    },
    {
      "cell_type": "code",
      "execution_count": 10,
      "metadata": {
        "id": "R1JC-NoEKITW",
        "colab": {
          "base_uri": "https://localhost:8080/"
        },
        "outputId": "0ee28fa2-9417-4ad1-fc44-b611f2f93dac"
      },
      "outputs": [
        {
          "output_type": "stream",
          "name": "stdout",
          "text": [
            "Epoch 1/10\n",
            "1407/1407 [==============================] - 72s 51ms/step - loss: 1.8333 - accuracy: 0.3309\n",
            "Epoch 2/10\n",
            "1407/1407 [==============================] - 72s 51ms/step - loss: 1.4332 - accuracy: 0.4785\n",
            "Epoch 3/10\n",
            "1407/1407 [==============================] - 70s 50ms/step - loss: 1.1446 - accuracy: 0.5943\n",
            "Epoch 4/10\n",
            "1407/1407 [==============================] - 70s 50ms/step - loss: 0.8739 - accuracy: 0.6940\n",
            "Epoch 5/10\n",
            "1407/1407 [==============================] - 70s 50ms/step - loss: 0.5915 - accuracy: 0.7942\n",
            "Epoch 6/10\n",
            "1407/1407 [==============================] - 70s 50ms/step - loss: 0.3658 - accuracy: 0.8761\n",
            "Epoch 7/10\n",
            "1407/1407 [==============================] - 71s 50ms/step - loss: 0.2500 - accuracy: 0.9166\n",
            "Epoch 8/10\n",
            "1407/1407 [==============================] - 70s 50ms/step - loss: 0.1977 - accuracy: 0.9340\n",
            "Epoch 9/10\n",
            "1407/1407 [==============================] - 69s 49ms/step - loss: 0.1523 - accuracy: 0.9490\n",
            "Epoch 10/10\n",
            "1407/1407 [==============================] - 70s 50ms/step - loss: 0.1351 - accuracy: 0.9560\n"
          ]
        },
        {
          "output_type": "execute_result",
          "data": {
            "text/plain": [
              "<keras.callbacks.History at 0x7fab501b5ad0>"
            ]
          },
          "metadata": {},
          "execution_count": 10
        }
      ],
      "source": [
        "md = tf.keras.Sequential()\n",
        "md.add(tf.keras.layers.Conv2D(32, kernel_size = 3, activation = 'relu', input_shape = (32, 32, 3)))\n",
        "md.add(tf.keras.layers.Conv2D(64, kernel_size = 3, activation = 'relu'))\n",
        "md.add(tf.keras.layers.Conv2D(128, kernel_size = 3, activation = 'relu'))\n",
        "md.add(tf.keras.layers.Conv2D(128, kernel_size = 3, activation = 'relu'))\n",
        "md.add(tf.keras.layers.Flatten())\n",
        "md.add(tf.keras.layers.Dense(1024, activation = 'relu'))\n",
        "md.add(tf.keras.layers.Dropout(0.5))\n",
        "md.add(tf.keras.layers.Dense(10, activation = 'softmax'))\n",
        "\n",
        "md.compile(optimizer = SGD(0.01, momentum = 0.9), loss='sparse_categorical_crossentropy', metrics=['accuracy'])\n",
        "md.fit(x_train, y_train, epochs = 10)\n"
      ]
    },
    {
      "cell_type": "code",
      "source": [
        "#Evaluation\n",
        "test_loss, test_acc = md.evaluate(x_test, y_test)\n",
        "print(test_loss, test_acc)"
      ],
      "metadata": {
        "id": "ldf0M6JHnryK",
        "colab": {
          "base_uri": "https://localhost:8080/"
        },
        "outputId": "594752fa-7997-4f48-9f00-7250c39126eb"
      },
      "execution_count": 11,
      "outputs": [
        {
          "output_type": "stream",
          "name": "stdout",
          "text": [
            "313/313 [==============================] - 5s 14ms/step - loss: 1.5884 - accuracy: 0.6320\n",
            "1.5883691310882568 0.6320000290870667\n"
          ]
        }
      ]
    },
    {
      "cell_type": "markdown",
      "metadata": {
        "id": "NLm_Vh-1KITW"
      },
      "source": [
        "#### Step-7: Activation function\n",
        "\n",
        "Try another activation function, such as elu, P-ReLU."
      ]
    },
    {
      "cell_type": "code",
      "execution_count": 13,
      "metadata": {
        "id": "QKGOjvceKITW",
        "colab": {
          "base_uri": "https://localhost:8080/"
        },
        "outputId": "fd8ae24d-3fb6-4489-b8d6-b095d75a2e86"
      },
      "outputs": [
        {
          "output_type": "stream",
          "name": "stdout",
          "text": [
            "Epoch 1/10\n",
            "1407/1407 [==============================] - 41s 28ms/step - loss: 12.3705 - accuracy: 0.1006\n",
            "Epoch 2/10\n",
            "1407/1407 [==============================] - 40s 28ms/step - loss: 12.3841 - accuracy: 0.1005\n",
            "Epoch 3/10\n",
            "1407/1407 [==============================] - 39s 28ms/step - loss: 12.3841 - accuracy: 0.1001\n",
            "Epoch 4/10\n",
            "1407/1407 [==============================] - 39s 28ms/step - loss: 12.3841 - accuracy: 0.1006\n",
            "Epoch 5/10\n",
            "1407/1407 [==============================] - 39s 28ms/step - loss: 12.3842 - accuracy: 0.1004\n",
            "Epoch 6/10\n",
            "1407/1407 [==============================] - 39s 28ms/step - loss: 12.3842 - accuracy: 0.1006\n",
            "Epoch 7/10\n",
            "1407/1407 [==============================] - 39s 28ms/step - loss: 12.3841 - accuracy: 0.1006\n",
            "Epoch 8/10\n",
            "1407/1407 [==============================] - 39s 28ms/step - loss: 12.3841 - accuracy: 0.1005\n",
            "Epoch 9/10\n",
            "1407/1407 [==============================] - 39s 28ms/step - loss: 12.3841 - accuracy: 0.1007\n",
            "Epoch 10/10\n",
            "1407/1407 [==============================] - 39s 28ms/step - loss: 12.3841 - accuracy: 0.1003\n"
          ]
        },
        {
          "output_type": "execute_result",
          "data": {
            "text/plain": [
              "<keras.callbacks.History at 0x7faa690d88d0>"
            ]
          },
          "metadata": {},
          "execution_count": 13
        }
      ],
      "source": [
        "md = tf.keras.Sequential()\n",
        "md.add(tf.keras.layers.Conv2D(32, kernel_size = 3, activation = 'elu', input_shape = (32, 32, 3)))\n",
        "md.add(tf.keras.layers.Conv2D(64, kernel_size = 3, activation = 'elu'))\n",
        "md.add(tf.keras.layers.Flatten())\n",
        "md.add(tf.keras.layers.Dense(1024, activation = 'elu'))\n",
        "md.add(tf.keras.layers.Dropout(0.5))\n",
        "md.add(tf.keras.layers.Dense(10, activation = 'elu'))\n",
        "\n",
        "md.compile(optimizer = SGD(0.01, momentum = 0.9), loss='sparse_categorical_crossentropy', metrics=['accuracy'])\n",
        "md.fit(x_train, y_train, epochs = 10)"
      ]
    },
    {
      "cell_type": "code",
      "source": [
        "#Evaluation\n",
        "test_loss, test_acc = md.evaluate(x_test, y_test)\n",
        "print(test_loss, test_acc)"
      ],
      "metadata": {
        "id": "SNMyBMv_nsit",
        "colab": {
          "base_uri": "https://localhost:8080/"
        },
        "outputId": "9ff52de7-5686-4d3e-a102-33c3a82521e0"
      },
      "execution_count": 14,
      "outputs": [
        {
          "output_type": "stream",
          "name": "stdout",
          "text": [
            "313/313 [==============================] - 3s 9ms/step - loss: 12.3813 - accuracy: 0.1000\n",
            "12.38127326965332 0.10000000149011612\n"
          ]
        }
      ]
    }
  ],
  "metadata": {
    "colab": {
      "collapsed_sections": [],
      "name": "CIFAR_CNN.ipynb",
      "provenance": [],
      "toc_visible": true
    },
    "interpreter": {
      "hash": "3afe1e4ce7822ba0e325ee279bb4d100dadd903c2abe2139ffec7391692aa1eb"
    },
    "kernelspec": {
      "display_name": "Python 3.6.13 ('zichao')",
      "language": "python",
      "name": "python3"
    },
    "language_info": {
      "codemirror_mode": {
        "name": "ipython",
        "version": 3
      },
      "file_extension": ".py",
      "mimetype": "text/x-python",
      "name": "python",
      "nbconvert_exporter": "python",
      "pygments_lexer": "ipython3",
      "version": "3.6.13"
    },
    "orig_nbformat": 4,
    "accelerator": "GPU"
  },
  "nbformat": 4,
  "nbformat_minor": 0
}